{
 "cells": [
  {
   "cell_type": "code",
   "execution_count": 137,
   "id": "416410a9",
   "metadata": {},
   "outputs": [],
   "source": [
    "from_html = \"../../../static/styles/me/cv/img/Cers of Tran Xuan Thanh\""
   ]
  },
  {
   "cell_type": "code",
   "execution_count": 138,
   "id": "51cab29d",
   "metadata": {},
   "outputs": [],
   "source": [
    "def left(file):\n",
    "    return f\"\"\"\n",
    "                                <div class=\"col-md-6 mb-4 portfolio-item first\">\n",
    "                                        <div class=\"position-relative overflow-hidden mb-2\">\n",
    "                                            <img class=\"img-fluid w-100\" src=\"{from_html}/{file}\" alt=\"\">\n",
    "                                            <div class=\"portfolio-btn d-flex align-items-center justify-content-center\">\n",
    "                                                <a href=\"{from_html}/{file}\" data-lightbox=\"portfolio\">\n",
    "                                                    <i class=\"fa fa-4x fa-plus text-white\"></i>\n",
    "                                                </a>\n",
    "                                            </div>\n",
    "                                        </div>\n",
    "                                </div>\n",
    "    \"\"\""
   ]
  },
  {
   "cell_type": "code",
   "execution_count": null,
   "id": "8bad8966",
   "metadata": {},
   "outputs": [],
   "source": []
  },
  {
   "cell_type": "code",
   "execution_count": 139,
   "id": "7c6d5aeb",
   "metadata": {},
   "outputs": [],
   "source": [
    "def right(file):\n",
    "    return f\"\"\"\n",
    "                                <div class=\"col-md-6 mb-4 portfolio-item second\">\n",
    "                                    <div class=\"position-relative overflow-hidden mb-2\">\n",
    "                                        <img class=\"img-fluid w-100\" src=\"{from_html}/{file}\" alt=\"\">\n",
    "                                        <div class=\"portfolio-btn d-flex align-items-center justify-content-center\">\n",
    "                                            <a href=\"{from_html}/{file}\" data-lightbox=\"portfolio\">\n",
    "                                                <i class=\"fa fa-4x fa-plus text-white\"></i>\n",
    "                                            </a>\n",
    "                                        </div>\n",
    "                                    </div>\n",
    "                                </div>\n",
    "\"\"\""
   ]
  },
  {
   "cell_type": "code",
   "execution_count": 140,
   "id": "29bccd46",
   "metadata": {},
   "outputs": [],
   "source": [
    "import os"
   ]
  },
  {
   "cell_type": "code",
   "execution_count": 141,
   "id": "41128b2b",
   "metadata": {},
   "outputs": [
    {
     "data": {
      "text/plain": [
       "41"
      ]
     },
     "execution_count": 141,
     "metadata": {},
     "output_type": "execute_result"
    }
   ],
   "source": [
    "chil = os.listdir('chil')\n",
    "len(chil)"
   ]
  },
  {
   "cell_type": "code",
   "execution_count": 142,
   "id": "b570bc56",
   "metadata": {},
   "outputs": [
    {
     "data": {
      "text/plain": [
       "26"
      ]
     },
     "execution_count": 142,
     "metadata": {},
     "output_type": "execute_result"
    }
   ],
   "source": [
    "uni = os.listdir('uni')\n",
    "len(uni)"
   ]
  },
  {
   "cell_type": "code",
   "execution_count": null,
   "id": "88720d9e",
   "metadata": {},
   "outputs": [],
   "source": []
  },
  {
   "cell_type": "code",
   "execution_count": 143,
   "id": "134144da",
   "metadata": {},
   "outputs": [],
   "source": [
    "# CAREFUL BELOW OF THE 2 lenS ABOVE:"
   ]
  },
  {
   "cell_type": "code",
   "execution_count": 144,
   "id": "0461349c",
   "metadata": {},
   "outputs": [],
   "source": [
    "result = \"\"\n",
    "\n",
    "for i in range(26):\n",
    "    result += left('chil/' + chil[i]) + \"\\n\" + right('uni/' + uni[i]) + \"\\n <!-- END ONE LINE-->\"\n",
    "    \n",
    "for i in range(26, 41, 1):\n",
    "    result += left('chil/' + chil[i]) + \"\\n <!-- END ONE LINE--> \""
   ]
  },
  {
   "cell_type": "code",
   "execution_count": 145,
   "id": "19dbd566",
   "metadata": {},
   "outputs": [
    {
     "name": "stdout",
     "output_type": "stream",
     "text": [
      "File created and content written.\n"
     ]
    }
   ],
   "source": [
    "# Open a file for writing\n",
    "with open(\"result.txt\", \"w\") as file:\n",
    "    file.write(result)\n",
    "    # You can write more content to the file if needed\n",
    "\n",
    "print(\"File created and content written.\")\n"
   ]
  },
  {
   "cell_type": "code",
   "execution_count": 146,
   "id": "a234b2a4",
   "metadata": {},
   "outputs": [
    {
     "data": {
      "text/plain": [
       "67"
      ]
     },
     "execution_count": 146,
     "metadata": {},
     "output_type": "execute_result"
    }
   ],
   "source": [
    "result.count(\"\"\"<div class=\"col-md-6 mb-4 portfolio-item\"\"\")"
   ]
  },
  {
   "cell_type": "code",
   "execution_count": null,
   "id": "1100c942",
   "metadata": {},
   "outputs": [],
   "source": []
  }
 ],
 "metadata": {
  "kernelspec": {
   "display_name": "Python 3 (ipykernel)",
   "language": "python",
   "name": "python3"
  },
  "language_info": {
   "codemirror_mode": {
    "name": "ipython",
    "version": 3
   },
   "file_extension": ".py",
   "mimetype": "text/x-python",
   "name": "python",
   "nbconvert_exporter": "python",
   "pygments_lexer": "ipython3",
   "version": "3.9.13"
  }
 },
 "nbformat": 4,
 "nbformat_minor": 5
}
