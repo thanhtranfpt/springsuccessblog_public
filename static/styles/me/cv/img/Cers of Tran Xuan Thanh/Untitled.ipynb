{
 "cells": [
  {
   "cell_type": "code",
   "execution_count": 1,
   "id": "9405e924",
   "metadata": {},
   "outputs": [],
   "source": [
    "from_html = \"../../../static/styles/me/cv/img/Cers of Tran Xuan Thanh\""
   ]
  },
  {
   "cell_type": "code",
   "execution_count": null,
   "id": "4177e67e",
   "metadata": {},
   "outputs": [],
   "source": []
  },
  {
   "cell_type": "code",
   "execution_count": null,
   "id": "c8b92a1b",
   "metadata": {},
   "outputs": [],
   "source": [
    "element = f\"\"\"\n",
    "                                <div class=\"col-md-6 mb-4 portfolio-item {pos}\">\n",
    "                                        <div class=\"position-relative overflow-hidden mb-2\">\n",
    "                                            <img class=\"img-fluid w-100\" src=\"{from_html}/{file}\" alt=\"\">\n",
    "                                            <div class=\"portfolio-btn d-flex align-items-center justify-content-center\">\n",
    "                                                <a href=\"{from_html}/{file}\" data-lightbox=\"portfolio\">\n",
    "                                                    <i class=\"fa fa-4x fa-plus text-white\"></i>\n",
    "                                                </a>\n",
    "                                            </div>\n",
    "                                        </div>\n",
    "                                </div>\n",
    "\"\"\""
   ]
  },
  {
   "cell_type": "code",
   "execution_count": 2,
   "id": "3d37aab9",
   "metadata": {},
   "outputs": [],
   "source": [
    "import os"
   ]
  },
  {
   "cell_type": "code",
   "execution_count": 3,
   "id": "abe02927",
   "metadata": {},
   "outputs": [
    {
     "data": {
      "text/plain": [
       "41"
      ]
     },
     "execution_count": 3,
     "metadata": {},
     "output_type": "execute_result"
    }
   ],
   "source": [
    "chil = os.listdir('chil')\n",
    "len(chil)"
   ]
  },
  {
   "cell_type": "code",
   "execution_count": 4,
   "id": "25bb0edd",
   "metadata": {},
   "outputs": [
    {
     "data": {
      "text/plain": [
       "26"
      ]
     },
     "execution_count": 4,
     "metadata": {},
     "output_type": "execute_result"
    }
   ],
   "source": [
    "uni = os.listdir('uni')\n",
    "len(uni)"
   ]
  },
  {
   "cell_type": "code",
   "execution_count": 20,
   "id": "e61f4fa0",
   "metadata": {},
   "outputs": [],
   "source": [
    "import pandas as pd\n",
    "\n",
    "pos_list = []\n",
    "src_list = []"
   ]
  },
  {
   "cell_type": "code",
   "execution_count": 14,
   "id": "cc26e898",
   "metadata": {},
   "outputs": [],
   "source": [
    "'''for file in chil:\n",
    "    pos_list.append('first')\n",
    "    src_list.append(f\"{from_html}/chil/{file}\")'''"
   ]
  },
  {
   "cell_type": "code",
   "execution_count": 15,
   "id": "86919b0a",
   "metadata": {},
   "outputs": [],
   "source": [
    "'''for file in uni:\n",
    "    pos_list.append('second')\n",
    "    src_list.append(f\"{from_html}/uni/{file}\")'''"
   ]
  },
  {
   "cell_type": "code",
   "execution_count": 21,
   "id": "8ad84dca",
   "metadata": {},
   "outputs": [],
   "source": [
    "for i in range(41):\n",
    "    if i < 26:\n",
    "        pos_list.append('first')\n",
    "        src_list.append(f\"{from_html}/chil/{chil[i]}\")\n",
    "        pos_list.append('second')\n",
    "        src_list.append(f\"{from_html}/uni/{uni[i]}\")\n",
    "    else:\n",
    "        if i % 2 == 0:\n",
    "            pos_list.append('first')\n",
    "            src_list.append(f\"{from_html}/chil/{chil[i]}\")\n",
    "        else:\n",
    "            pos_list.append('second')\n",
    "            src_list.append(f\"{from_html}/chil/{chil[i]}\")"
   ]
  },
  {
   "cell_type": "code",
   "execution_count": null,
   "id": "aa363de0",
   "metadata": {},
   "outputs": [],
   "source": [
    "len(src_list)"
   ]
  },
  {
   "cell_type": "code",
   "execution_count": null,
   "id": "019dd9ab",
   "metadata": {},
   "outputs": [],
   "source": []
  }
 ],
 "metadata": {
  "kernelspec": {
   "display_name": "Python 3 (ipykernel)",
   "language": "python",
   "name": "python3"
  },
  "language_info": {
   "codemirror_mode": {
    "name": "ipython",
    "version": 3
   },
   "file_extension": ".py",
   "mimetype": "text/x-python",
   "name": "python",
   "nbconvert_exporter": "python",
   "pygments_lexer": "ipython3",
   "version": "3.9.13"
  }
 },
 "nbformat": 4,
 "nbformat_minor": 5
}
